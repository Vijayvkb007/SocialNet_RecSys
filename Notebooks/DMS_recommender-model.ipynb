{
 "cells": [
  {
   "cell_type": "code",
   "execution_count": 1,
   "metadata": {
    "tags": []
   },
   "outputs": [],
   "source": [
    "import networkx as nx\n",
    "from matplotlib import pyplot as plt\n",
    "from itertools import combinations\n",
    "import pandas as pd"
   ]
  },
  {
   "cell_type": "code",
   "execution_count": 2,
   "metadata": {
    "tags": []
   },
   "outputs": [],
   "source": [
    "#['Abhay', 'Vijay', 'Ragha', 'Balaji', 'Anu'] ['Abhay', 'Ragha', 'Aryan', 'Abhishek', 'Adya']\n",
    "social_g = {\n",
    "  'Aryan': [('Adya', 4), ('Vijay', 2), ('Ragha', 1)],\n",
    "  'Adya': [('Aryan', 1), ('Vijay', 2), ('Abhishek', 3)], \n",
    "  'Abhay': [('Aryan', 1), ('Abhishek', 4), ('Anu', 5)],\n",
    "  'Abhishek': [('Adya', 2), ('Vijay', 3)],\n",
    "  'Akash': [('Balaji',1), ('Ragha', 5)],\n",
    "  'Vijay': [('Abhay', 1), ('Adya', 4), ('Abhishek', 5)],\n",
    "  'Ragha': [('Aryan', 1), ('Abhay', 4), ('Vijay', 5)],\n",
    "  'Anu': [('Balaji', 1), ('Aryan', 4)],\n",
    "  'Balaji': [('Adya', 1), ('Aryan', 4), ('Abhay', 5)],\n",
    "  'Nigga': [('Aryan',3)],\n",
    "}\n",
    "Social = nx.DiGraph()\n",
    "for node in social_g:\n",
    "    for k in social_g[node]:\n",
    "        Social.add_edge(node, k[0], weight= k[1])"
   ]
  },
  {
   "cell_type": "code",
   "execution_count": 3,
   "metadata": {
    "tags": []
   },
   "outputs": [
    {
     "name": "stdout",
     "output_type": "stream",
     "text": [
      "[('Aryan', 'Adya', {'weight': 4}), ('Aryan', 'Vijay', {'weight': 2}), ('Aryan', 'Ragha', {'weight': 1}), ('Adya', 'Aryan', {'weight': 1}), ('Adya', 'Vijay', {'weight': 2}), ('Adya', 'Abhishek', {'weight': 3}), ('Vijay', 'Abhay', {'weight': 1}), ('Vijay', 'Adya', {'weight': 4}), ('Vijay', 'Abhishek', {'weight': 5}), ('Ragha', 'Aryan', {'weight': 1}), ('Ragha', 'Abhay', {'weight': 4}), ('Ragha', 'Vijay', {'weight': 5}), ('Abhishek', 'Adya', {'weight': 2}), ('Abhishek', 'Vijay', {'weight': 3}), ('Abhay', 'Aryan', {'weight': 1}), ('Abhay', 'Abhishek', {'weight': 4}), ('Abhay', 'Anu', {'weight': 5}), ('Anu', 'Balaji', {'weight': 1}), ('Anu', 'Aryan', {'weight': 4}), ('Akash', 'Balaji', {'weight': 1}), ('Akash', 'Ragha', {'weight': 5}), ('Balaji', 'Adya', {'weight': 1}), ('Balaji', 'Aryan', {'weight': 4}), ('Balaji', 'Abhay', {'weight': 5}), ('Nigga', 'Aryan', {'weight': 3})]\n"
     ]
    }
   ],
   "source": [
    "edge_data_list = [(source, target, data) for source, target, data in Social.edges(data=True)]\n",
    "print(edge_data_list)"
   ]
  },
  {
   "cell_type": "code",
   "execution_count": 4,
   "metadata": {
    "tags": []
   },
   "outputs": [
    {
     "name": "stdout",
     "output_type": "stream",
     "text": [
      "{'Aryan': 0.7777777777777777, 'Adya': 0.4444444444444444, 'Vijay': 0.5555555555555556, 'Ragha': 0.4444444444444444, 'Abhishek': 0.3333333333333333, 'Abhay': 0.6666666666666666, 'Anu': 0.3333333333333333, 'Akash': 0.2222222222222222, 'Balaji': 0.5555555555555556, 'Nigga': 0.1111111111111111}\n",
      "['Aryan']\n"
     ]
    }
   ],
   "source": [
    "def generate_user_follow_suggestions(user_follow_data, user):\n",
    "    # Create a graph to represent user follow relationships\n",
    "    Social = nx.Graph()\n",
    "\n",
    "    # Add user nodes and their follow relationships as edges\n",
    "    for node in user_follow_data:\n",
    "        for k in user_follow_data[node]:\n",
    "            Social.add_edge(node, k[0], weight= k[1])\n",
    "\n",
    "    # Perform user follow suggestions using graph algorithms\n",
    "    suggestions = []\n",
    "    degree_centrality = nx.degree_centrality(Social)\n",
    "    eigenvector_centrality = nx.eigenvector_centrality(Social, max_iter=1000)\n",
    "    sorted_users = sorted(eigenvector_centrality.items(), key=lambda x: x[1], reverse=True)\n",
    "    user_to_recommend = user\n",
    "    print(degree_centrality)\n",
    "\n",
    "    \n",
    "    if(user not in degree_centrality):\n",
    "        suggestions += list(nx.articulation_points(Social))\n",
    "        for user, centrality in sorted_users:\n",
    "            if user != user_to_recommend and Social.has_edge(user_to_recommend, user) == False:\n",
    "                suggestions.append(user)\n",
    "                if len(suggestions) >= 5:  # Limit the number of recommendations\n",
    "                    break\n",
    "\n",
    "    else:\n",
    "        pagerank_scores = nx.pagerank(Social)\n",
    "        neighbours = list(Social.neighbors(user))\n",
    "        n = 5\n",
    "        neighbours_sorted = sorted(neighbours,\n",
    "            key= lambda x: pagerank_scores[x], reverse=True)\n",
    "    \n",
    "        suggestions += neighbours_sorted[:n]\n",
    "\n",
    "    return suggestions\n",
    "\n",
    "# Example user follow data (follower, following)\n",
    "user_follow_data = social_g\n",
    "\n",
    "user_follow_suggestions = generate_user_follow_suggestions(user_follow_data, 'Nigga')\n",
    "print(user_follow_suggestions)"
   ]
  },
  {
   "cell_type": "code",
   "execution_count": 5,
   "metadata": {
    "tags": []
   },
   "outputs": [],
   "source": [
    "def FoFs(user : str, Graph : nx.Graph) -> set:\n",
    "\n",
    "    \"\"\"\n",
    "    This function calcuates the first degree mutual friends and will return set of those users.\n",
    "\n",
    "    Returns:\n",
    "        set: set of mutual friends\n",
    "    \"\"\"\n",
    "    if user not in Graph.nodes():\n",
    "        raise(Exception(\"No such user\"))\n",
    "    connection = list(Graph.neighbors(user)) # stores the list of neighbors\n",
    "    mutconnlist = list(set(Graph.neighbors(x)) for x in connection) # stores the list of list of neigbors \n",
    "    \n",
    "    # create a set to store all connections\n",
    "    totalconn = set()\n",
    "    for friends in mutconnlist:\n",
    "        for indivdual in friends:\n",
    "            totalconn.add(indivdual)\n",
    "            \n",
    "    # remove already known connections\n",
    "    totalconn = totalconn - set(connection)\n",
    "    totalconn.remove(user) # remove the user\n",
    "    return totalconn"
   ]
  },
  {
   "cell_type": "code",
   "execution_count": 7,
   "metadata": {
    "tags": []
   },
   "outputs": [
    {
     "name": "stdout",
     "output_type": "stream",
     "text": [
      "           0         1\n",
      "0      Aryan      Adya\n",
      "1      Aryan     Vijay\n",
      "2      Aryan     Ragha\n",
      "3      Aryan     Abhay\n",
      "4      Aryan       Anu\n",
      "5      Aryan    Balaji\n",
      "6      Aryan     Nigga\n",
      "7      Aryan     Sahil\n",
      "8       Adya     Vijay\n",
      "9       Adya  Abhishek\n",
      "10      Adya    Balaji\n",
      "11      Adya     Sahil\n",
      "12     Vijay     Abhay\n",
      "13     Vijay  Abhishek\n",
      "14     Vijay     Ragha\n",
      "15     Vijay     Sahil\n",
      "16     Ragha     Abhay\n",
      "17     Ragha     Akash\n",
      "18  Abhishek     Abhay\n",
      "19     Abhay       Anu\n",
      "20     Abhay    Balaji\n",
      "21       Anu    Balaji\n",
      "22    Balaji     Akash\n",
      "23     Siddu     Sahil\n",
      "24     Siddu    Vikram\n",
      "25     Siddu    Tharun\n",
      "26    Vikram    Tharun\n"
     ]
    }
   ],
   "source": [
    "graph = nx.Graph()\n",
    "\n",
    "graph.add_edges_from(edge_data_list)\n",
    "graph.add_nodes_from(['Siddu', 'Sahil'])\n",
    "graph.add_edges_from([('Vijay','Sahil'), ('Aryan', 'Sahil'), ('Adya','Sahil')])\n",
    "graph.add_edge('Sahil','Siddu')\n",
    "graph.add_edges_from([('Siddu','Vikram'),('Vikram','Tharun'),('Siddu','Tharun')])\n",
    "\n",
    "df = pd.DataFrame(list(graph.edges()))\n",
    "print(df)\n",
    "df.to_csv(\"edges.txt\",header=False, index=False)"
   ]
  },
  {
   "cell_type": "code",
   "execution_count": 8,
   "metadata": {
    "tags": []
   },
   "outputs": [
    {
     "data": {
      "text/plain": [
       "{'Adya', 'Aryan', 'Vijay'}"
      ]
     },
     "execution_count": 8,
     "metadata": {},
     "output_type": "execute_result"
    }
   ],
   "source": [
    "FoFs('Siddu', Graph = graph)"
   ]
  },
  {
   "cell_type": "code",
   "execution_count": 9,
   "metadata": {
    "tags": []
   },
   "outputs": [
    {
     "name": "stdout",
     "output_type": "stream",
     "text": [
      "{'Aryan': 0.6153846153846154, 'Adya': 0.38461538461538464, 'Vijay': 0.46153846153846156, 'Ragha': 0.3076923076923077, 'Abhishek': 0.23076923076923078, 'Abhay': 0.46153846153846156, 'Anu': 0.23076923076923078, 'Balaji': 0.38461538461538464, 'Akash': 0.15384615384615385, 'Nigga': 0.07692307692307693, 'Siddu': 0.23076923076923078, 'Sahil': 0.3076923076923077, 'Vikram': 0.15384615384615385, 'Tharun': 0.15384615384615385}\n",
      "{'Aryan': 0.65, 'Adya': 0.5652173913043478, 'Vijay': 0.5909090909090909, 'Ragha': 0.48148148148148145, 'Abhishek': 0.43333333333333335, 'Abhay': 0.52, 'Anu': 0.4642857142857143, 'Balaji': 0.5, 'Akash': 0.37142857142857144, 'Nigga': 0.40625, 'Siddu': 0.41935483870967744, 'Sahil': 0.5652173913043478, 'Vikram': 0.30952380952380953, 'Tharun': 0.30952380952380953}\n",
      "{'Aryan': 0.4630011913492402, 'Adya': 0.33385556501627806, 'Vijay': 0.3929554216498595, 'Ragha': 0.276082880213175, 'Abhishek': 0.22571932372636258, 'Abhay': 0.3863096749529601, 'Anu': 0.23545963985718926, 'Balaji': 0.31184512358099425, 'Akash': 0.11922018310242302, 'Nigga': 0.0938876488554603, 'Siddu': 0.057176179934920496, 'Sahil': 0.25286575582971105, 'Vikram': 0.014544560967778576, 'Tharun': 0.014544560967778576}\n",
      "{'Aryan': 0.3450854700854701, 'Adya': 0.08653846153846154, 'Vijay': 0.11752136752136753, 'Ragha': 0.0641025641025641, 'Abhishek': 0.003205128205128205, 'Abhay': 0.06196581196581196, 'Anu': 0.0, 'Balaji': 0.08653846153846154, 'Akash': 0.004273504273504273, 'Nigga': 0.0, 'Siddu': 0.28205128205128205, 'Sahil': 0.3846153846153846, 'Vikram': 0.0, 'Tharun': 0.0}\n"
     ]
    }
   ],
   "source": [
    "print(nx.degree_centrality(graph))\n",
    "print(nx.closeness_centrality(graph))\n",
    "print(nx.eigenvector_centrality(graph))\n",
    "print(nx.betweenness_centrality(graph))"
   ]
  },
  {
   "cell_type": "markdown",
   "metadata": {},
   "source": [
    "### betweenness centrality\n",
    "    this tells how many shortest paths pass through that particular node \n",
    "    it is centre of connection \n",
    "    this node bridge between 2 or more community "
   ]
  },
  {
   "cell_type": "code",
   "execution_count": 10,
   "metadata": {
    "tags": []
   },
   "outputs": [
    {
     "name": "stdout",
     "output_type": "stream",
     "text": [
      "[['Aryan', 'Anu', 'Abhay', 'Balaji'], ['Aryan', 'Balaji', 'Adya'], ['Aryan', 'Vijay', 'Ragha', 'Abhay'], ['Aryan', 'Vijay', 'Sahil', 'Adya'], ['Aryan', 'Nigga'], ['Tharun', 'Siddu', 'Vikram'], ['Abhishek', 'Vijay', 'Abhay'], ['Abhishek', 'Vijay', 'Adya'], ['Akash', 'Ragha'], ['Akash', 'Balaji'], ['Siddu', 'Sahil']]\n",
      "[('Aryan', 'Nigga'), ('Siddu', 'Sahil')]\n",
      "when these connections are removed this will form many different subgraphs\n"
     ]
    }
   ],
   "source": [
    "k = nx.find_cliques(graph)\n",
    "print(list(k))\n",
    "k = nx.bridges(graph)\n",
    "print(list(k))\n",
    "print('when these connections are removed this will form many different subgraphs')"
   ]
  },
  {
   "cell_type": "code",
   "execution_count": 11,
   "metadata": {
    "tags": []
   },
   "outputs": [],
   "source": [
    "option = {\n",
    "    'node_color': '#ccb3ff',\n",
    "    'node_size': 1000,\n",
    "    'width': 2,\n",
    "}"
   ]
  },
  {
   "cell_type": "code",
   "execution_count": 12,
   "metadata": {
    "tags": []
   },
   "outputs": [
    {
     "data": {
      "image/png": "[encoded data removed]",
      "text/plain": [
       "<Figure size 640x480 with 1 Axes>"
      ]
     },
     "metadata": {},
     "output_type": "display_data"
    }
   ],
   "source": [
    "\n",
    "nx.draw(graph,with_labels=True,pos = nx.spring_layout(graph), **option)\n",
    "plt.show()"
   ]
  },
  {
   "cell_type": "markdown",
   "metadata": {},
   "source": [
    "betweenness centrality of 1 is very high because it is being bridge between 2 community\n",
    "\n",
    "cliques will help us find the possible communities in the graph (nx.find_cliques()) or maximal complete subgrpahs ->(complete graph : all nodes are connected to each other)"
   ]
  }
 ],
 "metadata": {
  "kernelspec": {
   "display_name": "Python 3 (ipykernel)",
   "language": "python",
   "name": "python3"
  },
  "language_info": {
   "codemirror_mode": {
    "name": "ipython",
    "version": 3
   },
   "file_extension": ".py",
   "mimetype": "text/x-python",
   "name": "python",
   "nbconvert_exporter": "python",
   "pygments_lexer": "ipython3",
   "version": "3.10.11"
  }
 },
 "nbformat": 4,
 "nbformat_minor": 4
}
