{
 "cells": [
  {
   "cell_type": "code",
   "execution_count": 10,
   "metadata": {},
   "outputs": [],
   "source": [
    "from matplotlib import pyplot as plt\n",
    "import numpy as np\n",
    "import networkx as nx\n",
    "import pandas as pd"
   ]
  },
  {
   "cell_type": "code",
   "execution_count": 6,
   "metadata": {},
   "outputs": [
    {
     "data": {
      "image/png": "[encoded data removed]",
      "text/plain": [
       "<Figure size 640x480 with 1 Axes>"
      ]
     },
     "metadata": {},
     "output_type": "display_data"
    }
   ],
   "source": [
    "k = np.array([1,2,3,4,5,6,7,8,9,10])\n",
    "\n",
    "fig,ax = plt.subplots()\n",
    "ax.plot(k,k)\n",
    "ax.set_xlabel(\"X axis\")\n",
    "ax.set_ylabel(\"Y axis\")\n",
    "ax.set_ylim([-10,10])\n",
    "plt.show()"
   ]
  },
  {
   "cell_type": "markdown",
   "metadata": {},
   "source": [
    "\n",
    "def generate_user_follow_suggestions(user):\n",
    "    logged_user = user.user.username\n",
    "    social_g = {\n",
    "    }\n",
    "    profiles = Profile.objects.all()\n",
    "    \n",
    "    Social = nx.Graph()\n",
    "    \n",
    "    # Get list of usernames\n",
    "    usernames = []\n",
    "    for profile in profiles:\n",
    "        usernames.append(profile.user.username)\n",
    "    # Print usernames  \n",
    "    #print(usernames)\n",
    "    # Create graph from usernames \n",
    "    Social.add_nodes_from(usernames)\n",
    "    # Verify node count\n",
    "    #print(len(Social.nodes())) \n",
    "    # Add edges\n",
    "    for profile in profiles:\n",
    "        username = profile.user.username\n",
    "        followers = profile.followers.all()\n",
    "        social_g[username] = list(followers)\n",
    "    \n",
    "    for key, value in social_g.items():\n",
    "        social_g[key] = [str(v).removeprefix(\"<User: \") for v in value]\n",
    "    for user, followers in social_g.items():\n",
    "        for follower in followers:\n",
    "            Social.add_edge(user, follower)\n",
    "    #print(Social.edges)\n",
    "    \n",
    "    suggestions = []\n",
    "    degree_centrality = nx.degree_centrality(Social)\n",
    "    eigenvector_centrality = nx.eigenvector_centrality(Social, max_iter=1000)\n",
    "    sorted_users = sorted(eigenvector_centrality.items(), key=lambda x: x[1], reverse=True)\n",
    "    user_to_recommend = logged_user\n",
    "    print(degree_centrality)\n",
    "\n",
    "    \n",
    "    if(degree_centrality[user_to_recommend] == 0.0): # for cold start case\n",
    "        print(\"case 1 triggered\")\n",
    "        print(list(nx.articulation_points(Social)))\n",
    "        suggestions += list(nx.articulation_points(Social))\n",
    "        for user, centrality in sorted_users:\n",
    "            if user != user_to_recommend and Social.has_edge(user_to_recommend, user) == False and user not in suggestions:\n",
    "                suggestions.append(user)\n",
    "                if len(suggestions) >= 5:  # Limit the number of recommendations\n",
    "                    break\n",
    "\n",
    "    else:\n",
    "        print(\"case 1 triggered\")\n",
    "        pagerank_scores = nx.pagerank(Social)\n",
    "        print(\"pg\", pagerank_scores)\n",
    "        #neighbours = list(Social.neighbors(logged_user))\n",
    "        n = 5\n",
    "        #print(neighbours)\n",
    "        neighbours_sorted = sorted(Social,\n",
    "            key= lambda x: pagerank_scores[x], reverse=True)\n",
    "        print(neighbours_sorted)\n",
    "        neighbours_sorted.remove(user_to_recommend)\n",
    "        suggestions += neighbours_sorted[:n]\n",
    "\n",
    "    return suggestions[:3]"
   ]
  },
  {
   "cell_type": "markdown",
   "metadata": {},
   "source": [
    "##### first workout for cold start\n",
    "one way is to recommend the popular nodes to the new node"
   ]
  },
  {
   "cell_type": "code",
   "execution_count": 34,
   "metadata": {},
   "outputs": [],
   "source": [
    "def generate_user_follow_suggestions(user : str , G : nx.Graph) -> list:\n",
    "    # find the degree centrality of user to check if the user is new or not\n",
    "    degree = nx.degree_centrality(G)\n",
    "    \n",
    "    user_degree = degree[user]\n",
    "    if(user_degree == 0.0):\n",
    "        print(\"Condition of Cold Start\")\n",
    "        "
   ]
  },
  {
   "cell_type": "code",
   "execution_count": 44,
   "metadata": {},
   "outputs": [
    {
     "name": "stdout",
     "output_type": "stream",
     "text": [
      "[('Aryan', 'Adya'), ('Aryan', 'Vijay'), ('Aryan', 'Ragha'), ('Aryan', 'Abhay'), ('Aryan', 'Anu'), ('Aryan', 'Balaji'), ('Aryan', 'Nigga'), ('Aryan', 'Sahil'), ('Adya', 'Vijay'), ('Adya', 'Abhishek'), ('Adya', 'Balaji'), ('Adya', 'Sahil'), ('Vijay', 'Abhay'), ('Vijay', 'Abhishek'), ('Vijay', 'Ragha'), ('Vijay', 'Sahil'), ('Ragha', 'Abhay'), ('Ragha', 'Akash'), ('Abhishek', 'Abhay'), ('Abhay', 'Anu'), ('Abhay', 'Balaji'), ('Anu', 'Balaji'), ('Balaji', 'Akash'), ('Siddu', 'Sahil'), ('Siddu', 'Vikram'), ('Siddu', 'Tharun'), ('Vikram', 'Tharun')]\n"
     ]
    }
   ],
   "source": [
    "# get the edge data from edges.txt and convert it to list\n",
    "df = pd.read_csv(\"edges.txt\", header=None)\n",
    "# df_list = df.values.tolist()\n",
    "df_list = [tuple(x) for x in df.itertuples(index=False)]\n",
    "print(df_list)"
   ]
  },
  {
   "cell_type": "code",
   "execution_count": 66,
   "metadata": {},
   "outputs": [
    {
     "ename": "TypeError",
     "evalue": "'_io.TextIOWrapper' object is not callable",
     "output_type": "error",
     "traceback": [
      "\u001b[1;31m---------------------------------------------------------------------------\u001b[0m",
      "\u001b[1;31mTypeError\u001b[0m                                 Traceback (most recent call last)",
      "\u001b[1;32md:\\GitHub\\SocialNet_RecSys\\Notebooks\\conditionalRecommendation.ipynb Cell 7\u001b[0m line \u001b[0;36m7\n\u001b[0;32m      <a href='vscode-notebook-cell:/d%3A/GitHub/SocialNet_RecSys/Notebooks/conditionalRecommendation.ipynb#X12sZmlsZQ%3D%3D?line=3'>4</a>\u001b[0m graph\u001b[39m.\u001b[39madd_node(\u001b[39m'\u001b[39m\u001b[39mv\u001b[39m\u001b[39m'\u001b[39m)\n\u001b[0;32m      <a href='vscode-notebook-cell:/d%3A/GitHub/SocialNet_RecSys/Notebooks/conditionalRecommendation.ipynb#X12sZmlsZQ%3D%3D?line=5'>6</a>\u001b[0m g \u001b[39m=\u001b[39m nx\u001b[39m.\u001b[39mGraph()\n\u001b[1;32m----> <a href='vscode-notebook-cell:/d%3A/GitHub/SocialNet_RecSys/Notebooks/conditionalRecommendation.ipynb#X12sZmlsZQ%3D%3D?line=6'>7</a>\u001b[0m k \u001b[39m=\u001b[39m \u001b[39mlist\u001b[39;49m(nx\u001b[39m.\u001b[39;49marticulation_points(g))\n",
      "\u001b[1;31mTypeError\u001b[0m: '_io.TextIOWrapper' object is not callable"
     ]
    }
   ],
   "source": [
    "graph = nx.Graph()\n",
    "graph.add_edges_from(df_list)\n",
    "\n",
    "graph.add_node('v')\n",
    "\n",
    "g = nx.Graph()\n",
    "nx.\n",
    "k = list(nx.articulation_points(g))\n"
   ]
  },
  {
   "cell_type": "code",
   "execution_count": 35,
   "metadata": {},
   "outputs": [
    {
     "name": "stdout",
     "output_type": "stream",
     "text": [
      "condition of Cold start\n"
     ]
    }
   ],
   "source": [
    "generate_user_follow_suggestions('v', graph)"
   ]
  }
 ],
 "metadata": {
  "kernelspec": {
   "display_name": "Python 3",
   "language": "python",
   "name": "python3"
  },
  "language_info": {
   "codemirror_mode": {
    "name": "ipython",
    "version": 3
   },
   "file_extension": ".py",
   "mimetype": "text/x-python",
   "name": "python",
   "nbconvert_exporter": "python",
   "pygments_lexer": "ipython3",
   "version": "3.10.11"
  }
 },
 "nbformat": 4,
 "nbformat_minor": 2
}
