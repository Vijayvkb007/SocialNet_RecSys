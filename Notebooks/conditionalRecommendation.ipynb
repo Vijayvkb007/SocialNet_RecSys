{
 "cells": [
  {
   "cell_type": "code",
   "execution_count": 2,
   "metadata": {},
   "outputs": [],
   "source": [
    "from matplotlib import pyplot as plt\n",
    "import numpy as np\n",
    "import networkx as nx\n",
    "import pandas as pd"
   ]
  },
  {
   "cell_type": "code",
   "execution_count": 69,
   "metadata": {},
   "outputs": [
    {
     "data": {
      "image/png": "[encoded data removed]",
      "text/plain": [
       "<Figure size 640x480 with 1 Axes>"
      ]
     },
     "metadata": {},
     "output_type": "display_data"
    }
   ],
   "source": [
    "k = np.array([1,2,3,4,5,6,7,8,9,10])\n",
    "\n",
    "fig,ax = plt.subplots()\n",
    "ax.plot(k,k)\n",
    "ax.set_xlabel(\"X axis\")\n",
    "ax.set_ylabel(\"Y axis\")\n",
    "ax.set_ylim([0,11])\n",
    "plt.show()"
   ]
  },
  {
   "cell_type": "markdown",
   "metadata": {},
   "source": [
    "\n",
    "def generate_user_follow_suggestions(user):\n",
    "    logged_user = user.user.username\n",
    "    social_g = {\n",
    "    }\n",
    "    profiles = Profile.objects.all()\n",
    "    \n",
    "    Social = nx.Graph()\n",
    "    \n",
    "    # Get list of usernames\n",
    "    usernames = []\n",
    "    for profile in profiles:\n",
    "        usernames.append(profile.user.username)\n",
    "    # Print usernames  \n",
    "    #print(usernames)\n",
    "    # Create graph from usernames \n",
    "    Social.add_nodes_from(usernames)\n",
    "    # Verify node count\n",
    "    #print(len(Social.nodes())) \n",
    "    # Add edges\n",
    "    for profile in profiles:\n",
    "        username = profile.user.username\n",
    "        followers = profile.followers.all()\n",
    "        social_g[username] = list(followers)\n",
    "    \n",
    "    for key, value in social_g.items():\n",
    "        social_g[key] = [str(v).removeprefix(\"<User: \") for v in value]\n",
    "    for user, followers in social_g.items():\n",
    "        for follower in followers:\n",
    "            Social.add_edge(user, follower)\n",
    "    #print(Social.edges)\n",
    "    \n",
    "    suggestions = []\n",
    "    degree_centrality = nx.degree_centrality(Social)\n",
    "    eigenvector_centrality = nx.eigenvector_centrality(Social, max_iter=1000)\n",
    "    sorted_users = sorted(eigenvector_centrality.items(), key=lambda x: x[1], reverse=True)\n",
    "    user_to_recommend = logged_user\n",
    "    print(degree_centrality)\n",
    "\n",
    "    \n",
    "    if(degree_centrality[user_to_recommend] == 0.0): # for cold start case\n",
    "        print(\"case 1 triggered\")\n",
    "        print(list(nx.articulation_points(Social)))\n",
    "        suggestions += list(nx.articulation_points(Social))\n",
    "        for user, centrality in sorted_users:\n",
    "            if user != user_to_recommend and Social.has_edge(user_to_recommend, user) == False and user not in suggestions:\n",
    "                suggestions.append(user)\n",
    "                if len(suggestions) >= 5:  # Limit the number of recommendations\n",
    "                    break\n",
    "\n",
    "    else:\n",
    "        print(\"case 1 triggered\")\n",
    "        pagerank_scores = nx.pagerank(Social)\n",
    "        print(\"pg\", pagerank_scores)\n",
    "        #neighbours = list(Social.neighbors(logged_user))\n",
    "        n = 5\n",
    "        #print(neighbours)\n",
    "        neighbours_sorted = sorted(Social,\n",
    "            key= lambda x: pagerank_scores[x], reverse=True)\n",
    "        print(neighbours_sorted)\n",
    "        neighbours_sorted.remove(user_to_recommend)\n",
    "        suggestions += neighbours_sorted[:n]\n",
    "\n",
    "    return suggestions[:3]"
   ]
  },
  {
   "cell_type": "markdown",
   "metadata": {},
   "source": [
    "##### first workout for cold start\n",
    "one way is to recommend the popular nodes to the new node"
   ]
  },
  {
   "cell_type": "code",
   "execution_count": 29,
   "metadata": {},
   "outputs": [],
   "source": [
    "\n",
    "def FoFs(user : str, Graph : nx.Graph) -> set:\n",
    "\n",
    "    \"\"\"\n",
    "    This function calcuates the first degree mutual friends and will return set of those users.\n",
    "\n",
    "    Returns:\n",
    "        set: set of second degree friends\n",
    "    \"\"\"\n",
    "    if user not in Graph.nodes():\n",
    "        print(\"na\")\n",
    "        raise(Exception(\"No such user\"))\n",
    "    connection = list(Graph.neighbors(user)) # stores the list of neighbors\n",
    "    mutconnlist = list(set(Graph.neighbors(x)) for x in connection) # stores the list of list of neigbors \n",
    "    \n",
    "    # create a set to store all connections\n",
    "    totalconn = set()\n",
    "    for friends in mutconnlist:\n",
    "        for indivdual in friends:\n",
    "            totalconn.add(indivdual)\n",
    "            \n",
    "    # remove already known connections\n",
    "    totalconn = totalconn - set(connection)\n",
    "    totalconn.remove(user) # remove the user\n",
    "    return totalconn  "
   ]
  },
  {
   "cell_type": "code",
   "execution_count": 35,
   "metadata": {},
   "outputs": [],
   "source": [
    "\n",
    "def generate_user_follow_suggestions(user : str , G : nx.Graph) -> list:\n",
    "    # find the degree centrality of user to check if the user is new or not\n",
    "    degree = nx.degree_centrality(G)\n",
    "    # dict of eigenvector_centrality\n",
    "    eigenvector_centrality = nx.eigenvector_centrality(G, max_iter=1000)\n",
    "    # sort the user list based on their eigenvector values\n",
    "    sorted_users = sorted(eigenvector_centrality.items(), key= lambda a:a[1], reverse=True)\n",
    "    \n",
    "    # create a suggestion list\n",
    "    suggestions = []\n",
    "    \n",
    "    user_degree = degree[user]\n",
    "    if(user_degree == 0.0):\n",
    "        print(\"Case 1 triggered\")\n",
    "        # print(nx.articulation_points(G))\n",
    "        suggestions.extend(list(nx.articulation_points(G)))\n",
    "        # suggest some users with high influence\n",
    "        for useri, _ in sorted_users:\n",
    "            if useri != user and G.has_edge(user, useri) == False and useri not in suggestions:\n",
    "                suggestions.append(useri)\n",
    "        return suggestions[:5]\n",
    "    # User with few followers\n",
    "    else:\n",
    "        print('Case 2 triggered')\n",
    "        # try to recommend friends of friends \n",
    "        suggestions.extend(FoFs(user, G))\n",
    "        return suggestions[:5]\n",
    "        \n"
   ]
  },
  {
   "cell_type": "code",
   "execution_count": null,
   "metadata": {},
   "outputs": [],
   "source": [
    "def generate_graph(user):\n",
    "    logged_user = user.user.username\n",
    "    socail_g = {}\n",
    "    profiles = Profile.objects.all()\n",
    "    \n",
    "    Social = nx.Graph()\n",
    "    # Get list of usernames\n",
    "    usernames = []\n",
    "    for profile in profiles:\n",
    "        usernames.append(profile.user.username)\n",
    "    # Print usernames  \n",
    "    #print(usernames)\n",
    "    # Create graph from usernames \n",
    "    Social.add_nodes_from(usernames)\n",
    "    # Verify node count\n",
    "    #print(len(Social.nodes())) \n",
    "    # Add edges\n",
    "    for profile in profiles:\n",
    "        username = profile.user.username\n",
    "        followers = profile.followers.all()\n",
    "        social_g[username] = list(followers)\n",
    "    \n",
    "    for key, value in social_g.items():\n",
    "        social_g[key] = [str(v).removeprefix(\"<User: \") for v in value]\n",
    "    for user, followers in social_g.items():\n",
    "        for follower in followers:\n",
    "            Social.add_edge(user, follower)\n",
    "    #print(Social.edges)\n",
    "    return [logged_user, Social]"
   ]
  },
  {
   "cell_type": "code",
   "execution_count": 4,
   "metadata": {},
   "outputs": [
    {
     "name": "stdout",
     "output_type": "stream",
     "text": [
      "[('Aryan', 'Adya'), ('Aryan', 'Vijay'), ('Aryan', 'Ragha'), ('Aryan', 'Abhay'), ('Aryan', 'Anu'), ('Aryan', 'Balaji'), ('Aryan', 'Nigga'), ('Aryan', 'Sahil'), ('Adya', 'Vijay'), ('Adya', 'Abhishek'), ('Adya', 'Balaji'), ('Adya', 'Sahil'), ('Vijay', 'Abhay'), ('Vijay', 'Abhishek'), ('Vijay', 'Ragha'), ('Vijay', 'Sahil'), ('Ragha', 'Abhay'), ('Ragha', 'Akash'), ('Abhishek', 'Abhay'), ('Abhay', 'Anu'), ('Abhay', 'Balaji'), ('Anu', 'Balaji'), ('Balaji', 'Akash'), ('Siddu', 'Sahil'), ('Siddu', 'Vikram'), ('Siddu', 'Tharun'), ('Vikram', 'Tharun')]\n"
     ]
    }
   ],
   "source": [
    "# get the edge data from edges.txt and convert it to list\n",
    "df = pd.read_csv(\"edges.txt\", header=None)\n",
    "# df_list = df.values.tolist()\n",
    "df_list = [tuple(x) for x in df.itertuples(index=False)]\n",
    "print(df_list)"
   ]
  },
  {
   "cell_type": "code",
   "execution_count": 15,
   "metadata": {},
   "outputs": [
    {
     "name": "stdout",
     "output_type": "stream",
     "text": [
      "{'Aryan': 0.5714285714285714, 'Vijay': 0.42857142857142855, 'Abhay': 0.42857142857142855, 'Adya': 0.3571428571428571, 'Balaji': 0.3571428571428571, 'Ragha': 0.2857142857142857, 'Sahil': 0.2857142857142857, 'Anu': 0.21428571428571427, 'Abhishek': 0.21428571428571427, 'Siddu': 0.21428571428571427, 'Akash': 0.14285714285714285, 'Vikram': 0.14285714285714285, 'Tharun': 0.14285714285714285, 'Nigga': 0.07142857142857142, 'v': 0.0}\n",
      "dict_keys(['Aryan', 'Vijay', 'Abhay', 'Adya', 'Balaji', 'Ragha', 'Sahil', 'Anu', 'Abhishek', 'Siddu', 'Akash', 'Vikram', 'Tharun', 'Nigga', 'v'])\n",
      "{'Aryan': 0.4630011913492401, 'Vijay': 0.39295542164985947, 'Abhay': 0.3863096749529601, 'Adya': 0.33385556501627806, 'Balaji': 0.31184512358099425, 'Ragha': 0.27608288021317495, 'Sahil': 0.25286575582971105, 'Anu': 0.2354596398571892, 'Abhishek': 0.22571932372636255, 'Akash': 0.11922018310242298, 'Nigga': 0.0938876488554603, 'Siddu': 0.05717617993492049, 'Vikram': 0.014544560967778574, 'Tharun': 0.014544560967778574, 'v': 6.425106102241747e-16}\n",
      "['Siddu', 'Sahil', 'Aryan']\n"
     ]
    }
   ],
   "source": [
    "graph = nx.Graph()\n",
    "graph.add_edges_from(df_list)\n",
    "\n",
    "suggestions = []\n",
    "graph.add_node('v')\n",
    "degree = nx.degree_centrality(graph)\n",
    "degree = sorted(degree.items(), key= lambda a: a[1], reverse=True)\n",
    "print(dict(degree))\n",
    "print(dict(degree).keys())\n",
    "eigenvector = nx.eigenvector_centrality(graph)\n",
    "eigenvector = sorted(eigenvector.items(), key=lambda a:a[1], reverse=True)\n",
    "print(dict(eigenvector))\n",
    "\n",
    "g = nx.Graph()\n",
    "print(list(nx.articulation_points(graph)))\n",
    "suggestions.extend(list(nx.articulation_points(graph)))\n",
    "# k = list(nx.articulation_points(g))\n"
   ]
  },
  {
   "cell_type": "code",
   "execution_count": 44,
   "metadata": {},
   "outputs": [
    {
     "name": "stdout",
     "output_type": "stream",
     "text": [
      "Case 2 triggered\n",
      "['Akash', 'Nigga', 'Ragha', 'Abhay', 'Anu']\n"
     ]
    }
   ],
   "source": [
    "suggestions = generate_user_follow_suggestions('Adya', graph)\n",
    "print(suggestions)"
   ]
  }
 ],
 "metadata": {
  "kernelspec": {
   "display_name": "Python 3",
   "language": "python",
   "name": "python3"
  },
  "language_info": {
   "codemirror_mode": {
    "name": "ipython",
    "version": 3
   },
   "file_extension": ".py",
   "mimetype": "text/x-python",
   "name": "python",
   "nbconvert_exporter": "python",
   "pygments_lexer": "ipython3",
   "version": "3.10.11"
  }
 },
 "nbformat": 4,
 "nbformat_minor": 2
}
