{
 "cells": [
  {
   "cell_type": "markdown",
   "metadata": {},
   "source": [
    "# 4: Metrics to recommend users\n",
    "## Different Centrality measures\n",
    "### Degree Centrality\n",
    "    Measures how well-connected a node is by counting the number of directed connections / edges. Nodes with high degree centrality are more likely considered special or important.\n",
    "### Closeness Centrality\n",
    "    Measures how quickly a node can reach all other nodes in network. For efficient communication high closeness centrality is preferable.\n",
    "### Betweenness Centrality\n",
    "    Identifies Nodes that acts as bridge at different parts of the network. Nodes with high Betweenness centrality have significant influence on information flow.\n",
    "### Eigenvector Centrality\n",
    "    Consider not only the connection but also the quality of connections. Nodes with high eigenvector centrality are connected to other influential nodes.\n",
    "### PageRank\n",
    "    It measures the importance of nodes in network based on number and quality of incoming links. Useful to find inluential links.\n"
   ]
  },
  {
   "cell_type": "markdown",
   "metadata": {},
   "source": [
    "## Some Methods utilizing them in user based Recommender systems are"
   ]
  },
  {
   "cell_type": "markdown",
   "metadata": {},
   "source": [
    "### Jaccard's similarities\n",
    "    Randomly considering 2 nodes from the network and comparing the neighbours of each other to check for the number of commonly shared nodes, \n",
    "    It ratio with the total connections yeilds a measure which is used to check how close those 2 nodes are,\n",
    "    Higher ratio means probability of they knowing eachother or becoming newfriends are high.\n",
    "\n",
    "Nodes with high _Betweenness and Closeness Centrality_ are recommended to each others when used Jaccard's similarities.\n",
    "    "
   ]
  },
  {
   "cell_type": "code",
   "execution_count": 9,
   "metadata": {},
   "outputs": [
    {
     "name": "stdout",
     "output_type": "stream",
     "text": [
      "Graph with 2761 nodes and 36840 edges\n"
     ]
    }
   ],
   "source": [
    "import networkx as nx\n",
    "\n",
    "# file = open(r\"D:\\study\\DMS\\project\\testing\\test2.txt\", mode='r')\n",
    "tweet = nx.Graph()\n",
    "twt50 = nx.read_edgelist(r\"first_50k_lines.txt\", \n",
    "                       create_using= tweet, nodetype=int)\n",
    "print(twt50)"
   ]
  },
  {
   "cell_type": "code",
   "execution_count": 10,
   "metadata": {},
   "outputs": [
    {
     "name": "stdout",
     "output_type": "stream",
     "text": [
      "[214328887, 34428380, 17116707, 28465635, 380580781]\n"
     ]
    }
   ],
   "source": [
    "# make a list of nodes so you can choose any 2 nodes\n",
    "# and check if they have any similarities\n",
    "list_nodes = list(tweet.nodes())\n",
    "print(list_nodes[:5])"
   ]
  },
  {
   "cell_type": "code",
   "execution_count": 11,
   "metadata": {},
   "outputs": [
    {
     "name": "stdout",
     "output_type": "stream",
     "text": [
      "1 0.6666666666666666 [19928703, 22721166]\n",
      "These 2 nodes are recommended\n"
     ]
    }
   ],
   "source": [
    "import random as rd\n",
    "import numpy as np\n",
    "simil = np.zeros(5000)\n",
    "choice = []\n",
    "for i in range(5000):\n",
    "    choices = rd.choices(list_nodes, k=2)\n",
    "    # print(choices)\n",
    "    if choices[0] != choices[1]:\n",
    "        neigh1 = set(tweet.neighbors(choices[0]))\n",
    "        neigh2 = set(tweet.neighbors(choices[1]))\n",
    "\n",
    "        # jaccards similarities \n",
    "        common = neigh1.intersection(neigh2)\n",
    "        total = neigh2.union(neigh1)\n",
    "        choice.append(choices)\n",
    "        simil[i] = (len(common)/len(total))\n",
    "\n",
    "if max(simil) > 0.5:\n",
    "    print(simil.argmax(),max(simil),choice[simil.argmax()])\n",
    "    print('These 2 nodes are recommended')\n",
    "else: pass"
   ]
  },
  {
   "cell_type": "markdown",
   "metadata": {},
   "source": [
    "## Articulate points/ cut vertices:\n",
    "#### Nodes that when removed fragment the network are called articulate points. We can recommend these users to new users to solve the cold start problem\n",
    "Networkx uses an algorithm that uses depth first search that keeps track of the highest level that back edges reach in the DFS tree."
   ]
  },
  {
   "cell_type": "code",
   "execution_count": 12,
   "metadata": {},
   "outputs": [
    {
     "name": "stdout",
     "output_type": "stream",
     "text": [
      "[250988604, 333011515, 123665765, 20771988, 67348022, 158821955, 21447363, 93436732, 27760317, 157532916, 25835874, 124746917, 21074641, 117998529, 28144741, 101859065, 681813, 44177692, 50393960, 17910878, 24109979, 63273064, 378546078, 299413847, 18511475, 20068314, 21891535, 23440052, 25935287, 50374439, 352721194, 20654052, 393712956, 22421051, 18393773, 17681513, 24166202, 23976386, 193011642, 261278737, 20660146, 15907720, 5380672, 17093617, 15134782, 2752851, 93017945, 23027237, 20108560, 14681605, 15693493, 249518215, 45509346, 48485771, 115485051, 259150636, 73975665, 104989762, 7715252, 6149912, 1268821, 1389951, 3527151, 5634392, 18498684, 1045141, 1116721, 5653212, 991221, 1048661, 1044591, 6550132, 678953, 8295072, 192969516, 20536157, 5490392, 52216611, 288452305, 28482819, 18825961, 10671602, 459322380, 283995054, 10228272, 175624200, 20950208, 7098022, 16786977, 352226153, 15439395, 15913, 7861312, 96747353, 19507713, 22021978, 14190551, 25995437, 1294741, 24599923, 126146818, 14208611, 54288013]\n",
      "The number of articulation points: 103\n"
     ]
    }
   ],
   "source": [
    "articulation_points = list(nx.articulation_points(twt50))\n",
    "\n",
    "print(articulation_points)\n",
    "\n",
    "print(f\"The number of articulation points: {len(articulation_points)}\")"
   ]
  },
  {
   "cell_type": "markdown",
   "metadata": {},
   "source": [
    "### Preferential attachments\n",
    "    The user with high degree of connections (certainly popular persons, eg.:Virat Kohili , MS Dhoni ,etc..) are recommended to other users, being popular means they have a high probability of being followed by other users, so this concept is used to recommend users."
   ]
  },
  {
   "cell_type": "code",
   "execution_count": 13,
   "metadata": {},
   "outputs": [],
   "source": [
    "import networkx as nx\n",
    "from matplotlib import pyplot as plt"
   ]
  },
  {
   "cell_type": "markdown",
   "metadata": {},
   "source": [
    "    pas stands for preferential attachment score"
   ]
  },
  {
   "cell_type": "code",
   "execution_count": 14,
   "metadata": {},
   "outputs": [],
   "source": [
    "twitter_undir_graph = nx.Graph()\n",
    "\n",
    "twt = nx.read_edgelist(r\"twitter_combined.txt\",\n",
    "                       create_using = twitter_undir_graph, nodetype = int)\n",
    "\n",
    "degree_distribution = twitter_undir_graph.degree()\n",
    "\n",
    "# duplicating degree distribution\n",
    "undir_pas = dict(degree_distribution)\n",
    "\n",
    "# make a list of users in decending popularity\n",
    "popular_undir_user = sorted(undir_pas.keys(), key=lambda x:undir_pas[x], reverse=True)"
   ]
  },
  {
   "cell_type": "code",
   "execution_count": 15,
   "metadata": {},
   "outputs": [],
   "source": [
    "twitter_digraph = nx.DiGraph()\n",
    "\n",
    "twt = nx.read_edgelist(r\"twitter_combined.txt\",\n",
    "                       create_using = twitter_digraph, nodetype = int)\n",
    "\n",
    "indegree_distribution = twitter_digraph.in_degree()\n",
    "\n",
    "# duplicating the indegree distribution\n",
    "dir_pas = dict(indegree_distribution)\n",
    "\n",
    "\n",
    "# make a list of users in decending popularity\n",
    "popular_dir_user = sorted(dir_pas.keys(), key=lambda x:dir_pas[x], reverse=True)"
   ]
  },
  {
   "cell_type": "code",
   "execution_count": 16,
   "metadata": {},
   "outputs": [
    {
     "name": "stdout",
     "output_type": "stream",
     "text": [
      "For undirected Graph:\n",
      "[115485051, 40981798, 813286, 43003845, 3359851]  are the top 5 popular users with  [3383, 3239, 3011, 2758, 2490]  connections.\n",
      "\n",
      "For directed Graph:\n",
      "[115485051, 40981798, 43003845, 813286, 22462180]  are the top 5 popular users with  [3383, 3216, 2735, 2647, 2471]  followers.\n"
     ]
    }
   ],
   "source": [
    "# printing out the popular users in both directed and undirected graph\n",
    "top5 = popular_undir_user[:5]\n",
    "connections = [undir_pas[popular_undir_user[x]] for x in range(5)]\n",
    "print('For undirected Graph:')\n",
    "print(top5, ' are the top 5 popular users with ',connections,' connections.')\n",
    "\n",
    "print()\n",
    "\n",
    "top5 = popular_dir_user[:5]\n",
    "connections = [dir_pas[popular_dir_user[x]] for x in range(5)]\n",
    "print('For directed Graph:')\n",
    "print(top5, ' are the top 5 popular users with ', connections,' followers.')"
   ]
  },
  {
   "cell_type": "markdown",
   "metadata": {},
   "source": [
    "    Top 5 famous followee printed above will be recommended,\n",
    "    bcz they have high degree of connection which basically implies they may be popular, the end user has high probability of following a popular user."
   ]
  },
  {
   "cell_type": "markdown",
   "metadata": {},
   "source": [
    "### PageRank\n",
    "    Originally developed for ranking pages in search engine but can be adapted for recommending users in social networks.\n",
    "    The idea is simple, the users connected to other influential user are also considered influential."
   ]
  },
  {
   "cell_type": "code",
   "execution_count": 17,
   "metadata": {},
   "outputs": [],
   "source": [
    "import networkx as nx\n",
    "\n",
    "twitter_graph = nx.Graph()\n",
    "\n",
    "twt = nx.read_edgelist(r\"twitter_combined.txt\",\n",
    "                       create_using = twitter_graph, nodetype = int)\n",
    "\n",
    "# calculate PageRank score\n",
    "pagerank_scores = nx.pagerank(twitter_graph)"
   ]
  },
  {
   "cell_type": "code",
   "execution_count": 18,
   "metadata": {},
   "outputs": [],
   "source": [
    "def get_top_recommendations(user, n=5):\n",
    "    neighbours = list(twitter_graph.neighbors(user))\n",
    "\n",
    "    neighbours_sorted = sorted(neighbours,\n",
    "        key= lambda x: pagerank_scores[x], reverse=True)\n",
    "    \n",
    "    return neighbours_sorted[:n]"
   ]
  },
  {
   "cell_type": "code",
   "execution_count": 19,
   "metadata": {},
   "outputs": [
    {
     "name": "stdout",
     "output_type": "stream",
     "text": [
      "Top recommendations for User 7233772 : [115485051, 657863, 14849487]\n"
     ]
    }
   ],
   "source": [
    "import random \n",
    "\n",
    "user = random.choice(list(twitter_graph.nodes()))\n",
    "top_recommend = get_top_recommendations(user, n =3)\n",
    "print(f'Top recommendations for User {user} : {top_recommend}')"
   ]
  },
  {
   "cell_type": "markdown",
   "metadata": {},
   "source": [
    "#### How PageRank Works ?\n",
    "    As it was created for webpages, its easily understandable when explained through webpage (to node) anology.\n",
    "    You visit a website and see more links connecting to other websites and click those links for several iteration once you get borred you randomly change to other webpages and again click some links and it goes on..\n",
    "    you consider a webpage important if huge number of webpages links back to this website.(here scored by number of times redirected to same webpage)\n",
    "    \n",
    "    Nodes are replaced with webpages and are scored on their occurances and this is how PageRank works.\n",
    "    it is similar to Random walk. "
   ]
  },
  {
   "cell_type": "markdown",
   "metadata": {},
   "source": [
    "### Adamic-Adar Index\n",
    "    We can say it as better version of Jaccard's similarity metrics.\n",
    "    \n",
    "    It gives less weigth to those nodes with higher degree (in other words popular users) which would give a great boost accurate recommendations to the end user."
   ]
  },
  {
   "cell_type": "code",
   "execution_count": 20,
   "metadata": {},
   "outputs": [
    {
     "name": "stdout",
     "output_type": "stream",
     "text": [
      "Requirement already satisfied: mathjax in c:\\users\\aryan\\appdata\\local\\programs\\python\\python311\\lib\\site-packages (0.1.2)\n",
      "Note: you may need to restart the kernel to use updated packages.\n"
     ]
    }
   ],
   "source": [
    "%pip install mathjax"
   ]
  },
  {
   "cell_type": "markdown",
   "metadata": {},
   "source": [
    "The Adamic-Adar Index between nodes \\(i\\) and \\(j\\) is calculated as:\n",
    "\n",
    "\\begin{align*}\n",
    "\\text{Adamic-Adar Index}(i, j) = \\sum_{u \\in \\Gamma(i) \\cap \\Gamma(j)} \\frac{1}{\\log(\\text{deg}(u))}\n",
    "\\end{align*}\n",
    "\n",
    "Where:\n",
    "\n",
    "\\begin{align*}\\Gamma(x) \\ represents \\ the \\ set \\ of \\ neigbours \\ of \\ x\\end{align*}\n",
    "\\\\\n",
    "deg(u) \\ is \\ the \\ degree \\ of \\ node \\ u"
   ]
  },
  {
   "cell_type": "code",
   "execution_count": 21,
   "metadata": {},
   "outputs": [],
   "source": [
    "import networkx as nx\n",
    "\n",
    "twitter_graph = nx.Graph()\n",
    "\n",
    "twt = nx.read_edgelist(r\"twitter_combined.txt\",\n",
    "                       create_using = twitter_graph, nodetype = int)\n"
   ]
  },
  {
   "cell_type": "code",
   "execution_count": 22,
   "metadata": {},
   "outputs": [],
   "source": [
    "import numpy\n",
    "# function to calculate Adamic-Adar Index between two nodes\n",
    "def adamic_adar_index(G, node1, node2):\n",
    "    # Get common neighbors of node1 and node2\n",
    "    common_neighbors = set(G.neighbors(node1)).intersection(set(G.neighbors(node2)))\n",
    "    # print(common_neighbors)\n",
    "    # Calculate the Adamic-Adar Index\n",
    "    adamic_adar = 0\n",
    "    for common_neighbor in common_neighbors:\n",
    "        degree_common_neighbor = G.degree(common_neighbor)\n",
    "        if degree_common_neighbor > 1:\n",
    "            adamic_adar += 1 / (numpy.log(degree_common_neighbor))\n",
    "    \n",
    "    return adamic_adar"
   ]
  },
  {
   "cell_type": "code",
   "execution_count": 23,
   "metadata": {},
   "outputs": [
    {
     "name": "stdout",
     "output_type": "stream",
     "text": [
      "Adamic-Adar Index between Node 484125854 and Node 30495007: 0\n",
      "\n",
      "Adamic-Adar Index between Node 163089333 and Node 285654273: 4.374877588900372\n"
     ]
    }
   ],
   "source": [
    "import random \n",
    "\n",
    "user1, user2 = random.choices(list(twitter_graph.nodes()), k = 2)\n",
    "index = adamic_adar_index(twitter_graph, user1, user2)\n",
    "print(f\"Adamic-Adar Index between Node {user1} and Node {user2}: {index}\")\n",
    "print()\n",
    "user1, user2 = 163089333,285654273\n",
    "index = adamic_adar_index(twitter_graph, user1, user2)\n",
    "print(f\"Adamic-Adar Index between Node {user1} and Node {user2}: {index}\")"
   ]
  },
  {
   "cell_type": "markdown",
   "metadata": {},
   "source": [
    "### Eigenvector Centrality\n",
    "    with help of an anology, we can say that if you suggest a rank A teacher for graph theory (teacher 1) they in return suggests another teacher (teacher 2) then it implies teacher 2 has more expertice in graph theory.\n",
    "\n",
    "    for a recommender system recommending expertice for course make use of this eigenvector centrality hugely."
   ]
  },
  {
   "cell_type": "code",
   "execution_count": 24,
   "metadata": {},
   "outputs": [],
   "source": [
    "import networkx as nx\n",
    "from matplotlib import pyplot as plt\n"
   ]
  },
  {
   "cell_type": "code",
   "execution_count": 25,
   "metadata": {},
   "outputs": [],
   "source": [
    "Graph = nx.DiGraph()\n",
    "\n",
    "# Add nodes representing users\n",
    "users = ['User1', 'User2', 'User3', 'User4', 'User5', 'User6']\n",
    "Graph.add_nodes_from(users)\n",
    "\n",
    "# Add directed edges representing endorsements for skills\n",
    "endorsements = [\n",
    "    ('User1', 'User2'),\n",
    "    ('User1', 'User3'),\n",
    "    ('User2', 'User4'),\n",
    "    ('User3', 'User4'),\n",
    "    ('User3', 'User5'),\n",
    "    ('User4', 'User6'),\n",
    "    ('User5', 'User6')\n",
    "]\n",
    "Graph.add_edges_from(endorsements)"
   ]
  },
  {
   "cell_type": "code",
   "execution_count": 26,
   "metadata": {},
   "outputs": [
    {
     "data": {
      "image/png": "[encoded data removed]",
      "text/plain": [
       "<Figure size 1000x1000 with 1 Axes>"
      ]
     },
     "metadata": {},
     "output_type": "display_data"
    }
   ],
   "source": [
    "plt.figure(figsize=(10,10))\n",
    "nx.draw_networkx(Graph, with_labels=True, pos=nx.spiral_layout(Graph), node_shape='s', node_size=1000 , arrows=True, font_size=10, font_color='brown', node_color='skyblue')"
   ]
  },
  {
   "cell_type": "markdown",
   "metadata": {},
   "source": [
    "# \n",
    "    from graph it is evident that user6 has the highest eigenvector value"
   ]
  },
  {
   "cell_type": "code",
   "execution_count": 27,
   "metadata": {},
   "outputs": [
    {
     "name": "stdout",
     "output_type": "stream",
     "text": [
      "Recommended connections for User1: ['User6', 'User4', 'User5']\n"
     ]
    }
   ],
   "source": [
    "\n",
    "# Compute eigenvector centrality\n",
    "eigenvector_centrality = nx.eigenvector_centrality(Graph, max_iter=1000)\n",
    "\n",
    "# Sort users by eigenvector centrality (most influential users first)\n",
    "sorted_users = sorted(eigenvector_centrality.items(), key=lambda x: x[1], reverse=True)\n",
    "\n",
    "# Recommend connections based on eigenvector centrality\n",
    "user_to_recommend = 'User1'\n",
    "recommended_connections = []\n",
    "\n",
    "for user, centrality in sorted_users:\n",
    "    if user != user_to_recommend and Graph.has_edge(user_to_recommend, user) == False:\n",
    "        recommended_connections.append(user)\n",
    "        if len(recommended_connections) >= 3:  # Limit the number of recommendations\n",
    "            break\n",
    "\n",
    "print(f\"Recommended connections for {user_to_recommend}: {recommended_connections}\")\n"
   ]
  }
 ],
 "metadata": {
  "kernelspec": {
   "display_name": "Python 3 (ipykernel)",
   "language": "python",
   "name": "python3"
  },
  "language_info": {
   "codemirror_mode": {
    "name": "ipython",
    "version": 3
   },
   "file_extension": ".py",
   "mimetype": "text/x-python",
   "name": "python",
   "nbconvert_exporter": "python",
   "pygments_lexer": "ipython3",
   "version": "3.11.5"
  }
 },
 "nbformat": 4,
 "nbformat_minor": 4
}
